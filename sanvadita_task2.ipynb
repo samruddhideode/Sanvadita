{
  "cells": [
    {
      "cell_type": "markdown",
      "metadata": {
        "id": "view-in-github",
        "colab_type": "text"
      },
      "source": [
        "<a href=\"https://colab.research.google.com/github/samruddhideode/Sanvadita/blob/main/sanvadita_task2.ipynb\" target=\"_parent\"><img src=\"https://colab.research.google.com/assets/colab-badge.svg\" alt=\"Open In Colab\"/></a>"
      ]
    },
    {
      "cell_type": "code",
      "execution_count": 2,
      "metadata": {
        "colab": {
          "base_uri": "https://localhost:8080/"
        },
        "id": "ui5bCovPL3Q4",
        "outputId": "505859ec-582a-466a-81ac-2d87a7fcc97b"
      },
      "outputs": [
        {
          "output_type": "stream",
          "name": "stdout",
          "text": [
            "Looking in indexes: https://pypi.org/simple, https://us-python.pkg.dev/colab-wheels/public/simple/\n",
            "Collecting fastText\n",
            "  Downloading fasttext-0.9.2.tar.gz (68 kB)\n",
            "\u001b[K     |████████████████████████████████| 68 kB 4.1 MB/s \n",
            "\u001b[?25hCollecting pybind11>=2.2\n",
            "  Using cached pybind11-2.10.0-py3-none-any.whl (213 kB)\n",
            "Requirement already satisfied: setuptools>=0.7.0 in /usr/local/lib/python3.7/dist-packages (from fastText) (57.4.0)\n",
            "Requirement already satisfied: numpy in /usr/local/lib/python3.7/dist-packages (from fastText) (1.21.6)\n",
            "Building wheels for collected packages: fastText\n",
            "  Building wheel for fastText (setup.py) ... \u001b[?25l\u001b[?25hdone\n",
            "  Created wheel for fastText: filename=fasttext-0.9.2-cp37-cp37m-linux_x86_64.whl size=3161998 sha256=b0463615319c48c346d6722ef445c94399c433625e1565cd0aca2f712e051850\n",
            "  Stored in directory: /root/.cache/pip/wheels/4e/ca/bf/b020d2be95f7641801a6597a29c8f4f19e38f9c02a345bab9b\n",
            "Successfully built fastText\n",
            "Installing collected packages: pybind11, fastText\n",
            "Successfully installed fastText-0.9.2 pybind11-2.10.0\n"
          ]
        }
      ],
      "source": [
        "!pip install fastText"
      ]
    },
    {
      "cell_type": "code",
      "execution_count": 3,
      "metadata": {
        "id": "3uStnypSMckF"
      },
      "outputs": [],
      "source": [
        "import fasttext.util"
      ]
    },
    {
      "cell_type": "code",
      "execution_count": 12,
      "metadata": {
        "id": "WK9pgp1HYe1H"
      },
      "outputs": [],
      "source": [
        "import sklearn\n",
        "import pandas as pd\n",
        "import string\n",
        "import re\n",
        "import numpy as np\n",
        "\n",
        "from sklearn.naive_bayes import  MultinomialNB\n",
        "from sklearn.neighbors import KNeighborsClassifier\n",
        "\n",
        "from sklearn.metrics import roc_auc_score, accuracy_score\n",
        "\n",
        "from sklearn.preprocessing import MinMaxScaler"
      ]
    },
    {
      "cell_type": "code",
      "execution_count": 5,
      "metadata": {
        "colab": {
          "base_uri": "https://localhost:8080/",
          "height": 70
        },
        "id": "OtDx9FjzfH8T",
        "outputId": "7c2072a4-9573-4055-98b6-0aacffacc816"
      },
      "outputs": [
        {
          "output_type": "stream",
          "name": "stdout",
          "text": [
            "Downloading https://dl.fbaipublicfiles.com/fasttext/vectors-crawl/cc.mr.300.bin.gz\n",
            "\n"
          ]
        },
        {
          "output_type": "execute_result",
          "data": {
            "text/plain": [
              "'cc.mr.300.bin'"
            ],
            "application/vnd.google.colaboratory.intrinsic+json": {
              "type": "string"
            }
          },
          "metadata": {},
          "execution_count": 5
        }
      ],
      "source": [
        "fasttext.util.download_model('mr',if_exists = 'ignore')"
      ]
    },
    {
      "cell_type": "code",
      "execution_count": 6,
      "metadata": {
        "colab": {
          "base_uri": "https://localhost:8080/"
        },
        "id": "dXIaO_cvfQfQ",
        "outputId": "1292db71-7d18-499f-a27a-eee1752926fc"
      },
      "outputs": [
        {
          "output_type": "stream",
          "name": "stderr",
          "text": [
            "Warning : `load_model` does not return WordVectorModel or SupervisedModel any more, but a `FastText` object which is very similar.\n"
          ]
        }
      ],
      "source": [
        " ft = fasttext.load_model('cc.mr.300.bin')"
      ]
    },
    {
      "cell_type": "code",
      "execution_count": 7,
      "metadata": {
        "id": "qzSFOB5wYuVW"
      },
      "outputs": [],
      "source": [
        "train_set = pd.read_csv(\"https://raw.githubusercontent.com/l3cube-pune/MarathiNLP/main/L3CubeMahaSent%20Dataset/tweets-train.csv\")\n",
        "test_set = pd.read_csv(\"https://raw.githubusercontent.com/l3cube-pune/MarathiNLP/main/L3CubeMahaSent%20Dataset/tweets-test.csv\")\n",
        "valid_set= pd.read_csv(\"https://raw.githubusercontent.com/l3cube-pune/MarathiNLP/main/L3CubeMahaSent%20Dataset/tweets-valid.csv\")"
      ]
    },
    {
      "cell_type": "code",
      "source": [
        "print(train_set.head())\n",
        "print(test_set.head())\n",
        "print(valid_set.head())"
      ],
      "metadata": {
        "id": "MrNBrCyGIT5X"
      },
      "execution_count": null,
      "outputs": []
    },
    {
      "cell_type": "code",
      "source": [
        "print(len(train_set.tweet)) #12114 tweets in the dataset\n",
        "print(len(train_set.label)) #12114 labels in the dataset"
      ],
      "metadata": {
        "colab": {
          "base_uri": "https://localhost:8080/"
        },
        "id": "WI_hzmYEli-k",
        "outputId": "e77cfb88-8bd7-4659-a974-a019ee6fb309"
      },
      "execution_count": 9,
      "outputs": [
        {
          "output_type": "stream",
          "name": "stdout",
          "text": [
            "12114\n",
            "12114\n"
          ]
        }
      ]
    },
    {
      "cell_type": "code",
      "source": [
        "def preprocess_tweet(tweet):\n",
        "    tweet = re.sub('@[^\\s]+','',tweet) #removing usernames, handles\n",
        "    tweet= re.sub('#\\w*[a-zA-Z]+\\w*', '',tweet) # removing hashtags\n",
        "    tweet= re.sub('\\d+', '', tweet) # Removing numbers\n",
        "    tweet= re.sub('[a-zA-Z0-9]+', '',tweet) # removing english words\n",
        "    tweet= re.sub('[^\\w\\s]+', '',tweet) # removing punctuations\n",
        "    return tweet\n",
        "\n",
        "train_set.tweet = train_set.tweet.apply(preprocess_tweet)\n",
        "test_set.tweet = test_set.tweet.apply(preprocess_tweet)\n",
        "valid_set.tweet = valid_set.tweet.apply(preprocess_tweet)"
      ],
      "metadata": {
        "id": "E9rltGE0QFbr"
      },
      "execution_count": 10,
      "outputs": []
    },
    {
      "cell_type": "markdown",
      "source": [
        "Embedding using facebook fasttext"
      ],
      "metadata": {
        "id": "tAmpwQgEOWl4"
      }
    },
    {
      "cell_type": "code",
      "execution_count": 11,
      "metadata": {
        "id": "xPq17Rf4_rRB"
      },
      "outputs": [],
      "source": [
        "# average of all fasttext embeddings in a tweet\n",
        "\n",
        "def vectorize(tweets):\n",
        "  i = 0\n",
        "  tweet_vectors = []\n",
        "  for tweet in tweets:\n",
        "    sentence=[]\n",
        "    for word in tweet:\n",
        "      sentence.append(ft.get_word_vector(word))\n",
        "    tweet_vectors.append(np.mean(sentence, axis = 0))\n",
        "  return tweet_vectors\n",
        "\n",
        "tweet_vectors_train = vectorize(train_set.tweet)\n",
        "tweet_vectors_test = vectorize(test_set.tweet)\n",
        "tweet_vectors_valid = vectorize(valid_set.tweet)\n",
        "\n"
      ]
    },
    {
      "cell_type": "markdown",
      "source": [
        "1. Knn Classifier using fasttext facebook"
      ],
      "metadata": {
        "id": "RWkeW-SzjuA6"
      }
    },
    {
      "cell_type": "code",
      "source": [
        "k_range = range(1,100)\n",
        "roc_auc = []\n",
        "accuracy = []\n",
        "for k in k_range:\n",
        "  knn = KNeighborsClassifier(n_neighbors=k)\n",
        "  knn.fit(tweet_vectors_train,train_set.label)\n",
        "  roc_auc.append(roc_auc_score(test_set.label,knn.predict_proba(tweet_vectors_test),multi_class='ovr'))\n",
        "  accuracy.append(accuracy_score(test_set.label, knn.predict(tweet_vectors_test)))"
      ],
      "metadata": {
        "id": "0bhwV1lciW4h"
      },
      "execution_count": 18,
      "outputs": []
    },
    {
      "cell_type": "code",
      "source": [
        "k = accuracy.index(max(accuracy))+1\n",
        "print('k: ',k)"
      ],
      "metadata": {
        "colab": {
          "base_uri": "https://localhost:8080/"
        },
        "id": "-vO-o6YHMidF",
        "outputId": "798289e4-596b-4e28-a9a2-6ebdd92e2c14"
      },
      "execution_count": 24,
      "outputs": [
        {
          "output_type": "stream",
          "name": "stdout",
          "text": [
            "k:  53\n"
          ]
        }
      ]
    },
    {
      "cell_type": "markdown",
      "source": [
        "Training knn with k = 53 using facebook fasttext"
      ],
      "metadata": {
        "id": "Yzeyj90pM-H0"
      }
    },
    {
      "cell_type": "code",
      "source": [
        "knn = KNeighborsClassifier(n_neighbors=53)\n",
        "knn.fit(tweet_vectors_train,train_set.label)\n",
        "\n",
        "train_roc_auc = roc_auc_score(train_set.label,knn.predict_proba(tweet_vectors_train),multi_class='ovr')\n",
        "train_accuracy = accuracy_score(train_set.label, knn.predict(tweet_vectors_train))\n",
        "\n",
        "test_roc_auc = roc_auc_score(test_set.label,knn.predict_proba(tweet_vectors_test),multi_class='ovr')\n",
        "test_accuracy = accuracy_score(test_set.label, knn.predict(tweet_vectors_test))\n",
        "\n",
        "valid_roc_auc = roc_auc_score(valid_set.label,knn.predict_proba(tweet_vectors_valid),multi_class='ovr')\n",
        "valid_accuracy = accuracy_score(valid_set.label, knn.predict(tweet_vectors_valid))"
      ],
      "metadata": {
        "id": "JkAO4NUBNDZv"
      },
      "execution_count": 25,
      "outputs": []
    },
    {
      "cell_type": "code",
      "source": [
        "print(\"knn results with facebook fasttext: \")\n",
        "print(\"train roc_auc: \",train_roc_auc)\n",
        "print(\"test roc_auc: \", test_roc_auc)\n",
        "print(\"valid roc_auc: \", valid_roc_auc)\n",
        "\n",
        "print(\"\\n\")\n",
        "print(\"train accuracy: \",train_accuracy)\n",
        "print(\"test accuracy: \", test_accuracy)\n",
        "print(\"valid accuracy: \", valid_accuracy)"
      ],
      "metadata": {
        "colab": {
          "base_uri": "https://localhost:8080/"
        },
        "id": "dlEaEMFhNqwd",
        "outputId": "1c3e342d-905d-4e3f-a8d3-a7f314146f1b"
      },
      "execution_count": 26,
      "outputs": [
        {
          "output_type": "stream",
          "name": "stdout",
          "text": [
            "knn results with facebook fasttext: \n",
            "train roc_auc:  0.769034680482584\n",
            "test roc_auc:  0.7376278518518519\n",
            "valid roc_auc:  0.7508233333333334\n",
            "\n",
            "\n",
            "train accuracy:  0.5728908700676902\n",
            "test accuracy:  0.5528888888888889\n",
            "valid accuracy:  0.5526666666666666\n"
          ]
        }
      ]
    },
    {
      "cell_type": "code",
      "source": [],
      "metadata": {
        "colab": {
          "base_uri": "https://localhost:8080/",
          "height": 328
        },
        "id": "3nj_P73ZPXaD",
        "outputId": "ea12032e-7f58-4168-cf21-4e958a3c6bd3"
      },
      "execution_count": 30,
      "outputs": [
        {
          "output_type": "stream",
          "name": "stderr",
          "text": [
            "Warning : `load_model` does not return WordVectorModel or SupervisedModel any more, but a `FastText` object which is very similar.\n"
          ]
        },
        {
          "output_type": "error",
          "ename": "ValueError",
          "evalue": "ignored",
          "traceback": [
            "\u001b[0;31m---------------------------------------------------------------------------\u001b[0m",
            "\u001b[0;31mValueError\u001b[0m                                Traceback (most recent call last)",
            "\u001b[0;32m<ipython-input-30-64b5b4a15db1>\u001b[0m in \u001b[0;36m<module>\u001b[0;34m\u001b[0m\n\u001b[0;32m----> 1\u001b[0;31m \u001b[0mft_l3cube\u001b[0m \u001b[0;34m=\u001b[0m \u001b[0mfasttext\u001b[0m\u001b[0;34m.\u001b[0m\u001b[0mload_model\u001b[0m\u001b[0;34m(\u001b[0m\u001b[0;34m'https://drive.google.com/file/d/1c0U5OPaQKiG1lEasG8JO_E5KM7hztIjl/view?ts=631494a6'\u001b[0m\u001b[0;34m)\u001b[0m\u001b[0;34m\u001b[0m\u001b[0;34m\u001b[0m\u001b[0m\n\u001b[0m",
            "\u001b[0;32m/usr/local/lib/python3.7/dist-packages/fasttext/FastText.py\u001b[0m in \u001b[0;36mload_model\u001b[0;34m(path)\u001b[0m\n\u001b[1;32m    439\u001b[0m     \u001b[0;34m\"\"\"Load a model given a filepath and return a model object.\"\"\"\u001b[0m\u001b[0;34m\u001b[0m\u001b[0;34m\u001b[0m\u001b[0m\n\u001b[1;32m    440\u001b[0m     \u001b[0meprint\u001b[0m\u001b[0;34m(\u001b[0m\u001b[0;34m\"Warning : `load_model` does not return WordVectorModel or SupervisedModel any more, but a `FastText` object which is very similar.\"\u001b[0m\u001b[0;34m)\u001b[0m\u001b[0;34m\u001b[0m\u001b[0;34m\u001b[0m\u001b[0m\n\u001b[0;32m--> 441\u001b[0;31m     \u001b[0;32mreturn\u001b[0m \u001b[0m_FastText\u001b[0m\u001b[0;34m(\u001b[0m\u001b[0mmodel_path\u001b[0m\u001b[0;34m=\u001b[0m\u001b[0mpath\u001b[0m\u001b[0;34m)\u001b[0m\u001b[0;34m\u001b[0m\u001b[0;34m\u001b[0m\u001b[0m\n\u001b[0m\u001b[1;32m    442\u001b[0m \u001b[0;34m\u001b[0m\u001b[0m\n\u001b[1;32m    443\u001b[0m \u001b[0;34m\u001b[0m\u001b[0m\n",
            "\u001b[0;32m/usr/local/lib/python3.7/dist-packages/fasttext/FastText.py\u001b[0m in \u001b[0;36m__init__\u001b[0;34m(self, model_path, args)\u001b[0m\n\u001b[1;32m     96\u001b[0m         \u001b[0mself\u001b[0m\u001b[0;34m.\u001b[0m\u001b[0mf\u001b[0m \u001b[0;34m=\u001b[0m \u001b[0mfasttext\u001b[0m\u001b[0;34m.\u001b[0m\u001b[0mfasttext\u001b[0m\u001b[0;34m(\u001b[0m\u001b[0;34m)\u001b[0m\u001b[0;34m\u001b[0m\u001b[0;34m\u001b[0m\u001b[0m\n\u001b[1;32m     97\u001b[0m         \u001b[0;32mif\u001b[0m \u001b[0mmodel_path\u001b[0m \u001b[0;32mis\u001b[0m \u001b[0;32mnot\u001b[0m \u001b[0;32mNone\u001b[0m\u001b[0;34m:\u001b[0m\u001b[0;34m\u001b[0m\u001b[0;34m\u001b[0m\u001b[0m\n\u001b[0;32m---> 98\u001b[0;31m             \u001b[0mself\u001b[0m\u001b[0;34m.\u001b[0m\u001b[0mf\u001b[0m\u001b[0;34m.\u001b[0m\u001b[0mloadModel\u001b[0m\u001b[0;34m(\u001b[0m\u001b[0mmodel_path\u001b[0m\u001b[0;34m)\u001b[0m\u001b[0;34m\u001b[0m\u001b[0;34m\u001b[0m\u001b[0m\n\u001b[0m\u001b[1;32m     99\u001b[0m         \u001b[0mself\u001b[0m\u001b[0;34m.\u001b[0m\u001b[0m_words\u001b[0m \u001b[0;34m=\u001b[0m \u001b[0;32mNone\u001b[0m\u001b[0;34m\u001b[0m\u001b[0;34m\u001b[0m\u001b[0m\n\u001b[1;32m    100\u001b[0m         \u001b[0mself\u001b[0m\u001b[0;34m.\u001b[0m\u001b[0m_labels\u001b[0m \u001b[0;34m=\u001b[0m \u001b[0;32mNone\u001b[0m\u001b[0;34m\u001b[0m\u001b[0;34m\u001b[0m\u001b[0m\n",
            "\u001b[0;31mValueError\u001b[0m: https://drive.google.com/file/d/1c0U5OPaQKiG1lEasG8JO_E5KM7hztIjl/view?ts=631494a6 cannot be opened for loading!"
          ]
        }
      ]
    }
  ],
  "metadata": {
    "colab": {
      "collapsed_sections": [],
      "provenance": [],
      "mount_file_id": "1B2KB3-lqf-BCa1ng8n55W1iPQJjGqxeE",
      "authorship_tag": "ABX9TyO3C7gPICSyUIQkeTT6Ur02",
      "include_colab_link": true
    },
    "kernelspec": {
      "display_name": "Python 3",
      "name": "python3"
    },
    "language_info": {
      "name": "python"
    }
  },
  "nbformat": 4,
  "nbformat_minor": 0
}
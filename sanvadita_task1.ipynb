{
  "nbformat": 4,
  "nbformat_minor": 0,
  "metadata": {
    "colab": {
      "provenance": [],
      "collapsed_sections": [],
      "authorship_tag": "ABX9TyN4faPKTYmX/tUztUKJf8Bw",
      "include_colab_link": true
    },
    "kernelspec": {
      "name": "python3",
      "display_name": "Python 3"
    },
    "language_info": {
      "name": "python"
    }
  },
  "cells": [
    {
      "cell_type": "markdown",
      "metadata": {
        "id": "view-in-github",
        "colab_type": "text"
      },
      "source": [
        "<a href=\"https://colab.research.google.com/github/samruddhideode/Sanvadita/blob/main/sanvadita_task1.ipynb\" target=\"_parent\"><img src=\"https://colab.research.google.com/assets/colab-badge.svg\" alt=\"Open In Colab\"/></a>"
      ]
    },
    {
      "cell_type": "code",
      "execution_count": 21,
      "metadata": {
        "id": "zhZ-TO8Ms-5v"
      },
      "outputs": [],
      "source": [
        "import pandas as pd\n",
        "import re\n",
        "import string\n",
        "from sklearn.feature_extraction.text import TfidfVectorizer, CountVectorizer\n",
        "\n",
        "from sklearn.naive_bayes import  MultinomialNB\n",
        "from sklearn.neighbors import KNeighborsClassifier\n",
        "\n",
        "from sklearn.metrics import roc_auc_score, accuracy_score"
      ]
    },
    {
      "cell_type": "code",
      "source": [
        "train_set= pd.read_csv(\"https://raw.githubusercontent.com/l3cube-pune/MarathiNLP/main/L3CubeMahaSent%20Dataset/tweets-train.csv\")\n",
        "test_set= pd.read_csv(\"https://raw.githubusercontent.com/l3cube-pune/MarathiNLP/main/L3CubeMahaSent%20Dataset/tweets-test.csv\")\n",
        "valid_set= pd.read_csv(\"https://raw.githubusercontent.com/l3cube-pune/MarathiNLP/main/L3CubeMahaSent%20Dataset/tweets-valid.csv\")"
      ],
      "metadata": {
        "id": "dywYdCFUtVz_"
      },
      "execution_count": 2,
      "outputs": []
    },
    {
      "cell_type": "code",
      "source": [
        "def pre_process(text):\n",
        "  words = text.split(' ')\n",
        "  new_words = []\n",
        "  for word in words:\n",
        "    if(word == ''): # null strings removed\n",
        "      continue\n",
        "    elif(re.search(\"[a-zA-Z0-9]+\", word)): # remove english words and numbers\n",
        "      continue\n",
        "    elif(re.search(\"@[^\\s]+\", word)): # remove mentions\n",
        "      continue\n",
        "    elif(re.search(\"#[^\\s]+\", word)): # remove hashtags\n",
        "      continue\n",
        "    else:\n",
        "      word = word.translate(str.maketrans('', '', string.punctuation))\n",
        "      word = word.replace('\\n','')\n",
        "      new_words.append(word)\n",
        "  return(new_words)"
      ],
      "metadata": {
        "id": "Cf7drwR9tjaB"
      },
      "execution_count": 7,
      "outputs": []
    },
    {
      "cell_type": "code",
      "source": [
        "# convert tweets to a list of constituent words (pre-processing 1) \n",
        "\n",
        "train_tweets = []\n",
        "for tweet in train_set.tweet:\n",
        "  processed = pre_process(tweet)\n",
        "  train_tweets.append(processed)\n",
        "\n",
        "test_tweets = []\n",
        "for tweet in test_set.tweet:\n",
        "  processed = pre_process(tweet)\n",
        "  test_tweets.append(processed)\n",
        "\n",
        "valid_tweets = []\n",
        "for tweet in valid_set.tweet:\n",
        "  processed = pre_process(tweet)\n",
        "  valid_tweets.append(processed)\n",
        "\n",
        "print(train_tweets[:10])\n",
        "print(test_tweets[:10])\n",
        "print(valid_tweets[:10])\n"
      ],
      "metadata": {
        "colab": {
          "base_uri": "https://localhost:8080/"
        },
        "id": "lNiUoXLdtoLG",
        "outputId": "0647ed75-aae7-4b44-fb54-af4f2a960487"
      },
      "execution_count": 9,
      "outputs": [
        {
          "output_type": "stream",
          "name": "stdout",
          "text": [
            "[['ज्येष्ठ', 'पत्रकार', 'अनंत', 'दीक्षित', 'यांच्या', 'निधनाचे', 'वृत्त', 'दुखद', 'आहे', 'चार', 'दशकं', 'त्यांनी', 'आपल्या', 'परखड', 'लेखणीने', 'पत्रकारितेत', 'अमूल्य', 'योगदान', 'दिले', 'दीक्षित', 'यांच्या', 'मार्गदर्शनाखाली', 'पत्रकारांची', 'पिढी', 'घडली', 'अनंत', 'दीक्षित', 'यांना', 'भावपूर्ण', 'श्रद्धांजली', 'आम्ही', 'त्यांच्या', 'परिवाराच्या', 'दुखात', 'सहभागी', 'आहोत'], ['सर्वोच्च', 'न्यायालयाचे', 'निर्देश', 'डावलून', 'पुणे', 'पोलिसांनी', 'प्रा', 'आनंद', 'तेलतुंबडेंना', 'अटक', 'केली', 'मात्र', 'न्यायालयाने', 'त्यांची', 'अटक', 'बेकायदेशीर', 'ठरवून', 'सरकारला', 'जोरदार', 'चपराक', 'लगावली', 'आहे', 'कायदा', 'हातात', 'घेणाया', 'पोलीस', 'अधिकायांवर', 'तात्काळ', 'कारवाई', 'केली'], ['उद्धव', 'ठाकरेंनी', 'भाजपासोबत', 'युती', 'करून', 'शिवसैनिकांचा', 'अवमान', 'व', 'विश्वासघात', 'केला', 'आहे', 'फसवणूक', 'झालेल्या', 'शिवसैनिकांबद्दल', 'मला', 'सहानुभूती', 'असून', 'स्वार्थासाठी', 'उद्धव', 'ठाकरे', 'भाजपसोबत', 'गेले', 'तरी', 'मोदींचे', 'सरकार', 'घालवण्यातच', 'महाराष्ट्राचे', 'हित', 'आहे', 'हे', 'जाणणारे', 'शिवसैनिक', 'मोदींच्या', 'विरोधात', 'काँग्रेसला', 'मतदान', 'करतील'], ['आपला', 'समाज', 'खूप', 'मोठा', 'आहे', 'त्यात', 'अनेक', 'घटक', 'अंतर्भूत', 'आहेत', 'यातील', 'दिव्यांग', 'हा', 'एक', 'घटक', 'जो', 'शारीरिकदृष्ट्या', 'कमकुवत', 'आहे', 'त्याच्याकडे', 'समाजाचे', 'दुर्लक्ष', 'होतेय', 'त्यामुळे', 'सरकारने', 'अशा', 'व्यक्तींसाठी', 'उपक्रम', 'राबवून', 'त्यांना', 'समाजात', 'सन्मानाने', 'जगता', 'येईल', 'याकडे', 'लक्ष', 'देण्याची', 'गरज', 'आहे'], ['बलात्काराचा', 'बदला', 'बलात्काराने', 'घेतला', 'पाहिजे', 'हे', 'म्हणणारे', 'सावरकर', 'आम्हाला', 'मान्य', 'नाहीत', 'द्वेष', 'आणि', 'तिरस्कार', 'हिंदू', 'धर्मातही', 'अभिप्रेत', 'कधीच', 'नव्हता', 'आम्ही', 'सावरकरांच्या', 'विचारांचा', 'विरोध', 'करताच', 'राहू', 'त्यात', 'व्यक्तीद्वेष', 'नाही', 'तर', 'वैचारिक', 'विरोध', 'आहे', 'हा', 'देश', 'गांधींच्या', 'विचारांनीच', 'चालेल'], ['जरी', 'मी', 'देशाच्या', 'सेवेत', 'मृत्यू', 'पावली', 'तरी', 'मला', 'त्याचा', 'अभिमान', 'वाटेलमाझ्या', 'रक्ताचे', 'प्रत्येक', 'थेंब', 'या', 'राष्ट्राच्या', 'विकासास', 'हातभार', 'लावेल', 'आणि', 'ते', 'मजबूत', 'व', 'गतिमान', 'बनवेलश्रीमती', 'इंदिरा', 'गांधीस्वतंत्र', 'भारताच्या', 'पहिल्या', 'महिला', 'पंतप्रधान', 'इंदिरा', 'गांधी', 'यांना', 'विनम्र', 'अभिवादन'], ['आज', 'बारामती', 'शहर', 'परिसरात', 'सुरु', 'असणाऱ्या', 'विविध', 'विकास', 'कामांना', 'प्रत्यक्ष', 'भेटी', 'देत', 'कामाचा', 'आढावा', 'घेतला\\xa0शहरासह', 'तालुक्यातील', 'कायदासुव्यवस्था', 'सुरळीत', 'राखण्यासाठी', 'अवैध', 'व्यवसाय', 'करणाऱ्यांवर', 'कडक', 'कारवाई', 'करण्याचे', 'निर्देश', 'दिले'], ['च्या', 'माजी', 'अध्यक्ष', 'स्व', 'प्रभाताई', 'राव', 'यांना', 'जयंतीनिमित्त', 'विनम्र', 'अभिवादन'], ['पालखी', 'सोहळ्यात', 'अपघात', 'झाल्याची', 'बातमी', 'दुःखद', 'आहेया', 'रस्त्याचे', 'चौपदरीकरण', 'रखडले', 'आहे', 'जी', 'महाराष्ट्राच्या', 'भावविश्वात', 'पालखी', 'सोहळ्याला', 'मोठे', 'महत्त्व', 'आहेया', 'सोहळ्यात', 'अपघात', 'घडणे', 'खेदजनक', 'आहेकृपया', 'आपण', 'वैयक्तिक', 'लक्ष', 'घालून', 'पालखी', 'मार्गाचे', 'काम', 'पुर्ण', 'करण्याचे', 'आदेश', 'द्यावेतही', 'विनंती'], ['आगामी', 'निवडणुकांच्या', 'पार्श्वभूमीवर', 'आज', 'म्हसळा', 'तालुक्यातील', 'कार्यकर्त्यांशी', 'संवाद', 'साधला', 'व', 'त्यांना', 'मार्गदर्शन']]\n",
            "[['चा', 'फक्त', 'नारा', 'देऊन', 'उपयोग', 'नाही', 'महिला', 'अत्याचाराच्या', 'आरोपींना', 'वेळीच', 'कठोर', 'शासनही', 'झालं', 'पाहिजे', 'पण', 'गहुंजे', 'खटल्यात', 'अक्षम्य', 'दिरंगाई', 'झाली', 'आहे', 'महिला', 'सुरक्षेबाबत', 'तत्परतेचे', 'दावे', 'फोल', 'ठरले', 'आहेत', 'गहुंजेच्या', 'आरोपींना', 'फाशी', 'होणेबाबत', 'सरकारने', 'तातडीने', 'कायदेशीर', 'पावले', 'उचलली', 'पाहिजे'], ['पेट्रोल', 'आणि', 'डिझेलवर', 'एक', 'रूपया', 'अधिभार', 'लावल्याने', 'शेतकर्\\u200dयांना', 'ट्रॅक्टर', 'शेती', 'मालवाहतूक', 'यासाठी', 'आता', 'आणखी', 'भार', 'पडणार', 'आहे', 'शेतकर्\\u200dयांसाठी', 'एकही', 'नवीन', 'घोषणा', 'योजना', 'या', 'अर्थसंकल्पात', 'नाही', 'शेतकरी', 'महिला', 'युवा', 'अशा', 'सर्व', 'वर्गांना', 'निराश', 'करणारा', 'हा', 'अर्थसंकल्प'], ['लूट', 'झूट', 'का', 'राज', 'भागावो', 'रोजगार', 'और', 'विकास', 'लावोहा', 'नारा', 'बुलंद', 'करत', 'निघालेल्या', 'युवक', 'काँग्रेसच्या', 'युवा', 'क्रांती', 'यात्रेचे', 'देवगाव', 'फाटा', 'जि', 'वर्धा', 'येथे', 'युवक', 'काँग्रेसच्या', 'कार्यकर्त्यांनी', 'दिमाखात', 'स्वागत', 'केले'], ['महाराष्ट्र', 'विकास', 'आघाडी', 'सरकारच्या', 'मंत्रिमंडळ', 'विस्तारासाठी', 'विधानमंडळात', 'संपन्न', 'झालेल्या', 'सोहळ्यात', 'मंत्रिपदाची', 'शपथ', 'घेतलेल्या', '३६', 'नवीन', 'मंत्र्यांचे', 'हार्दिक', 'अभिनंदन', 'महाराष्ट्राच्या', 'उत्कर्षासाठी', 'व', 'सर्वांगीण', 'विकासासाठी', 'हे', 'मंत्रिमंडळ', 'कार्यरत', 'राहोयासाठी'], ['पिंपरीत', 'अ\\u200dॅथलेटिक्स', 'आणि', 'विविध', 'क्षेत्रांतल्या', 'खेळाडूंसोबत', 'बैठक', 'घेतली', 'गुणवान', 'खेळाडूंना', 'सरकारी', 'नोकऱ्यांमध्ये', '५', 'टक्के', 'जागा', 'देण्यासारखे', 'महत्त्वाचे', 'निर्णय', 'आम्ही', 'घेतले', 'तसेच', 'खेळाडूंच्या', 'हिताचे', 'निर्णय', 'घेण्यासाठी', 'नेहमीच', 'कटिबद्ध', 'आहेअसा', 'विश्वास', 'त्यांना', 'दिला'], ['राष्ट्रवादी', 'काँग्रेस', 'पार्टी', 'कार्यालय', 'अहमदनगर', 'येथे', 'विधानसभा', 'निवडणूक', '२०१९', 'अनुषंगाने', 'जिल्ह्यातील', 'इच्छुक', 'उमेदवारांच्या', 'मुलाखती', 'पार', 'पडल्या', 'यावेळी', 'मा', 'दादाभाऊ', 'कळमकर', 'माचंद्रशेखर', 'घुले', 'माअंकुशराव', 'काकडे', 'मा', 'राजेंद्र', 'फाळके', 'आणि', 'इतर', 'मान्यवर', 'उपस्थित'], ['झारखंडमध्ये', 'विजय', 'मिळविणारे', 'चे', 'नवनिर्वाचित', 'आमदार', 'कमलेश', 'कुमार', 'सिंह', 'यांनी', 'भेट', 'घेतली', 'झारखंडमध्ये', 'त्यांनी', 'आदरणीय', 'साहेबांच्या', 'विचारांची', 'पताका', 'फडकत', 'ठेवली', 'आहे', 'त्यांना', 'भेटून', 'आनंद', 'झाला'], ['राज्याचे', 'उच्च', 'व', 'तंत्र', 'शिक्षण', 'मंत्री', 'यांच्याशी', 'चर्चा', 'केली'], ['पोलीस', 'भरतीची', 'तयारी', 'करणाऱ्या', 'विद्यार्थ्यांनी', 'भेट', 'घेतलीसरकारने', 'भरती', 'प्रक्रियेत', 'ऐनवेळी', 'केलेल्या', 'बदलांमुळे', 'ग्रामीण', 'भागातील', 'तरुण', 'तरुणींमध्ये', 'संभ्रमाचे', 'वातावरण', 'अाहे', 'याविरोधात', 'ते', 'लढा', 'देत', 'आहेतया', 'लढ्यात', 'मी', 'सर्वतोपरी', 'त्यांच्यासोबत', 'आहे', 'सरकारने', 'हे', 'बदल', 'तत्काळ', 'मागे', 'घ्यावेत'], ['सरकारने', 'छत्रपती', 'शिवाजी', 'महाराज', 'यांचे', 'नाव', 'देत', 'कर्जमाफीची', 'घोषणा', 'केली', 'त्या', 'घोषणेचा', 'इतका', 'गाजावाजा', 'केला', 'की', 'आता', '७१२', 'कोरा', 'करणार', 'म्हणजे', 'कर्जासकट', 'त्यावरचं', 'नाव', 'पण', 'साफ', 'करणार', 'की', 'काय', 'अशी', 'मला', 'भीती', 'वाटली', 'आणि', 'खरंच', 'ही', 'कर्जमाफी', 'फसवी']]\n",
            "[['कोरोना', 'काळात', 'आपले', 'पंतप्रधान', 'मा', 'नरेंद्र', 'मोदीजी', 'यांनी', 'समाजातील', 'सर्व', 'घटकांना', 'दिलासा', 'देण्यासाठी', 'आत्मनिर्भर', 'भारत', 'अभियान', 'जाहीर', 'केले', 'त्याचा', 'महाराष्ट्राला', 'कसा', 'लाभ', 'होणार', 'याचे', 'सोप्या', 'शब्दात', 'यात', 'विश्लेषण'], ['पुणे', 'येथे', 'राष्ट्रसेवा', 'दल', 'अभ्यासिका', 'विभाग', 'यांच्या', 'संयुक्त', 'विद्यमाने', '', 'सरळसेवा', 'व', 'स्पर्धा', 'परिक्षामधील', 'समस्या', 'व', 'अडचणीबाबत', 'संवादाचा', 'कार्यक्रम', 'पार', 'पडला', 'यावेळी', 'या', 'कार्यक्रमास', 'उपस्थित', 'महाराष्ट्र', 'लोकसेवा', 'आयोगाचे', 'मा', 'अध्यक्ष', 'विठ्ठल', 'मोरे', '', 'आमदार', 'प्रणितीताई', 'शिंदे'], ['पुणे', 'येथील', 'क्रांती', 'ज्योती', 'या', 'कार्यक्रमात', 'जेष्ठ', 'समाजवादी', 'नेते', 'माभाई', 'वैद्य', 'यांच्या', 'प्रमुख', 'उपस्थितीत', 'माखासदार'], ['आद्यक्रांतिकारक', 'उमाजीराजे', 'नाईक', 'यांना', 'जयंतीनिमित्त', 'विनम्र', 'अभिवादन', ''], ['महाराष्ट्राचे', 'मुख्यमंत्री', 'म्हणून', 'शपथ', 'घेतल्याबद्दल', 'शिवसेना', 'पक्षप्रमुख', 'श्री', 'यांचे', 'मनःपूर्वक'], ['अधुनिक', 'भारताचे', 'पहिले', 'समाजक्रांतिकारक', 'महात्मा', 'फुले', 'यांच्या', 'जयंती', 'दिनी', 'त्यांना', 'विनम्र', 'अभिवादन'], ['दीपावली', 'लक्ष्मीपूजनानिमित्त', 'आज', 'परळी', 'शहरातील', 'व्यापारी', 'बांधवांच्या', 'भेटी', 'घेऊन', 'त्यांना', 'शुभेच्छा', 'दिल्या'], ['महाराष्ट्र', 'खऱ्या', 'अर्थाने', 'हागणदारीमुक्त', 'व्हावा', 'ही', 'आमचीही', 'प्रामाणिक', 'इच्छा', 'आहे', '२०१२', 'च्या', 'सर्वेक्षणाचा', 'आधार', 'घेऊन', 'मुख्यमंत्र्यांनी', 'ढोल', 'पिटवताना', 'गेल्या', '६', 'वर्षांत', 'अनेक', 'कुटुंबे', 'विभक्त', 'झाली', 'अनेक', 'शौचालय', 'कार्यरत', 'नाहीतपाणी', 'नाही', 'हे', 'लक्षात', 'घ्यावेमुंबईबाबतचा', 'मुख्यमंत्र्यांचा', 'दावा', 'फोल', 'होता'], ['संकल्प', 'नवनिर्माणाचाशक्तिशाली', 'नवमहाराष्ट्र', 'घडविण्याचानूतन', 'वर्षाभिनंदन', 'हे', 'वर्ष', 'सर्व', 'नागरिकांना', 'प्रगतीचे', 'आनंदाचे', 'भरभराटीचे', 'उत्तम', 'आरोग्याचे', 'जावो', 'या', 'शुभेच्छा', ''], ['औरंगाबाद', 'मध्य', 'विधानसभा', 'मतदार', 'संघामध्ये', 'अब्दुल', 'कदिर', 'मौलाना', 'यांनी', 'आयोजित', 'केलेल्या', 'मेळाव्यात', 'उपस्थितांशी', 'संवाद', 'साधला', 'यावेळी', 'चे', 'पदाधिकारी', 'कार्यकर्ते', 'तसेच', 'मतदार', 'संघातील', 'नागरिक', 'मोठ्या', 'संख्येने', 'उपस्थित', 'होते']]\n"
          ]
        }
      ]
    },
    {
      "cell_type": "code",
      "source": [
        "# vectorisation (pre-processing 2)\n",
        "def identity_tokenizer(text):\n",
        "    return text\n",
        "\n",
        "tfidf = TfidfVectorizer(tokenizer=identity_tokenizer, lowercase=False)\n",
        "count = CountVectorizer(tokenizer=identity_tokenizer, lowercase=False)"
      ],
      "metadata": {
        "id": "yyV91u079aS9"
      },
      "execution_count": 24,
      "outputs": []
    },
    {
      "cell_type": "code",
      "source": [
        "# use fit_transform() only while TRAINING, otherwise use transform()\n",
        "\n",
        "vector_tfidf_training = tfidf.fit_transform(train_tweets) #x1_train\n",
        "vector_count_training = count.fit_transform(train_tweets) #x2_train\n",
        "\n",
        "vector_tfidf_testing = tfidf.transform(test_tweets) #x1_test\n",
        "vector_count_testing = count.transform(test_tweets) #x2_test\n",
        "\n",
        "vector_tfidf_valid = tfidf.transform(valid_tweets) #x1_valid\n",
        "vector_count_valid = count.transform(valid_tweets) #x2_valid"
      ],
      "metadata": {
        "id": "wDjAMapdCfKr"
      },
      "execution_count": 28,
      "outputs": []
    },
    {
      "cell_type": "code",
      "source": [
        "# model training\n",
        "\n",
        "# naive-bayes\n",
        "nb_tfidf = MultinomialNB()\n",
        "nb_tfidf.fit(vector_tfidf_training,train_set.label)\n",
        "\n",
        "nb_count = MultinomialNB()\n",
        "nb_count.fit(vector_count_training,train_set.label)"
      ],
      "metadata": {
        "colab": {
          "base_uri": "https://localhost:8080/"
        },
        "id": "s7KVWYbxvzB6",
        "outputId": "1405b55d-b5dd-4fc8-feed-2be2ca73aaec"
      },
      "execution_count": 33,
      "outputs": [
        {
          "output_type": "execute_result",
          "data": {
            "text/plain": [
              "MultinomialNB()"
            ]
          },
          "metadata": {},
          "execution_count": 33
        }
      ]
    },
    {
      "cell_type": "code",
      "source": [
        "train_roc = roc_auc_score(train_set.label,nb_tfidf.predict_proba(vector_tfidf_training),multi_class='ovr')\n",
        "test_roc = roc_auc_score(test_set.label,nb_tfidf.predict_proba(vector_tfidf_testing),multi_class='ovr')\n",
        "valid_roc = roc_auc_score(valid_set.label,nb_tfidf.predict_proba(vector_tfidf_valid),multi_class='ovr')\n",
        "\n",
        "print(\"With tfidf vectorisation: \")\n",
        "print(\"train roc_auc: \",train_roc)\n",
        "print(\"test roc_auc: \", test_roc)\n",
        "print(\"valid roc_auc: \", valid_roc)\n",
        "\n",
        "train_auc = accuracy_score(train_set.label, nb_tfidf.predict(vector_tfidf_training))\n",
        "test_auc = accuracy_score(test_set.label,nb_tfidf.predict(vector_tfidf_testing))\n",
        "valid_auc = accuracy_score(valid_set.label,nb_tfidf.predict(vector_tfidf_valid))\n",
        "\n",
        "print(\"\\n\")\n",
        "print(\"train auc: \",train_auc)\n",
        "print(\"test auc: \", test_auc)\n",
        "print(\"valid auc: \", valid_auc)"
      ],
      "metadata": {
        "colab": {
          "base_uri": "https://localhost:8080/"
        },
        "id": "y3j_NK1zAvbP",
        "outputId": "03487c84-67c4-4b9e-fe95-737cd0160602"
      },
      "execution_count": 38,
      "outputs": [
        {
          "output_type": "stream",
          "name": "stdout",
          "text": [
            "With tfidf vectorisation: \n",
            "train roc_auc:  0.9749378285354675\n",
            "test roc_auc:  0.9160311111111111\n",
            "valid roc_auc:  0.9208173333333334\n",
            "\n",
            "\n",
            "train auc:  0.8789829948819547\n",
            "test auc:  0.7622222222222222\n",
            "valid auc:  0.7693333333333333\n"
          ]
        }
      ]
    },
    {
      "cell_type": "code",
      "source": [
        "train_roc = roc_auc_score(train_set.label,nb_count.predict_proba(vector_count_training),multi_class='ovr')\n",
        "test_roc = roc_auc_score(test_set.label,nb_count.predict_proba(vector_count_testing),multi_class='ovr')\n",
        "valid_roc = roc_auc_score(valid_set.label,nb_count.predict_proba(vector_count_valid),multi_class='ovr')\n",
        "\n",
        "print(\"With count vectorisation: \")\n",
        "print(\"train roc_auc: \",train_roc)\n",
        "print(\"test roc_auc: \", test_roc)\n",
        "print(\"valid roc_auc: \", valid_roc)\n",
        "\n",
        "train_auc = accuracy_score(train_set.label, nb_count.predict(vector_count_training))\n",
        "test_auc = accuracy_score(test_set.label,nb_count.predict(vector_count_testing))\n",
        "valid_auc = accuracy_score(valid_set.label,nb_count.predict(vector_count_valid))\n",
        "\n",
        "print(\"\\n\")\n",
        "print(\"train auc: \",train_auc)\n",
        "print(\"test auc: \", test_auc)\n",
        "print(\"valid auc: \", valid_auc)"
      ],
      "metadata": {
        "colab": {
          "base_uri": "https://localhost:8080/"
        },
        "id": "4SyXks_9DmW7",
        "outputId": "d5c1e50d-b948-485a-d4a7-5023e6e510fb"
      },
      "execution_count": 39,
      "outputs": [
        {
          "output_type": "stream",
          "name": "stdout",
          "text": [
            "With count vectorisation: \n",
            "train roc_auc:  0.9793082502588297\n",
            "test roc_auc:  0.9152268148148148\n",
            "valid roc_auc:  0.9193626666666667\n",
            "\n",
            "\n",
            "train auc:  0.8951626217599472\n",
            "test auc:  0.7711111111111111\n",
            "valid auc:  0.7726666666666666\n"
          ]
        }
      ]
    }
  ]
}